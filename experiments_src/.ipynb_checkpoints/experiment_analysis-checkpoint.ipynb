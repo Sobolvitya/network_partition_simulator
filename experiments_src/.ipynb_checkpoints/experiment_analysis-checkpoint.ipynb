{
 "cells": [
  {
   "cell_type": "code",
   "execution_count": 48,
   "metadata": {},
   "outputs": [],
   "source": [
    "from scipy.stats import chisquare\n",
    "from itertools import groupby\n",
    "import collections\n",
    "import numpy as np\n",
    "import pandas as pd"
   ]
  },
  {
   "cell_type": "code",
   "execution_count": 24,
   "metadata": {},
   "outputs": [],
   "source": [
    "def read_results(exp_id: str) -> (list, list):\n",
    "    file_name = 'results/' + exp_id + '.txt'\n",
    "\n",
    "    result_file = open(file_name, 'r')\n",
    "\n",
    "    eq_node_results_line = result_file.readline()\n",
    "    eq_node_results = list(\n",
    "        map(int,\n",
    "            eq_node_results_line[len('eq_node_results: ['):len(eq_node_results_line) - 2].split(', '))\n",
    "    )\n",
    "\n",
    "    different_node_results_line = result_file.readline()\n",
    "    different_node_results = list(\n",
    "        map(int,\n",
    "            different_node_results_line[len('diff_node_results: ['):len(different_node_results_line) - 2].split(', '))\n",
    "    )\n",
    "    return eq_node_results, different_node_results\n",
    "\n"
   ]
  },
  {
   "cell_type": "code",
   "execution_count": 25,
   "metadata": {},
   "outputs": [],
   "source": [
    "eq_node_results, different_node_results = read_results('6cbd343d-d8c8-4cd6-aa83-28547e55474b')\n"
   ]
  },
  {
   "cell_type": "code",
   "execution_count": 26,
   "metadata": {},
   "outputs": [
    {
     "data": {
      "text/plain": [
       "100"
      ]
     },
     "execution_count": 26,
     "metadata": {},
     "output_type": "execute_result"
    }
   ],
   "source": [
    "len(eq_node_results)"
   ]
  },
  {
   "cell_type": "code",
   "execution_count": 27,
   "metadata": {},
   "outputs": [
    {
     "data": {
      "text/plain": [
       "100"
      ]
     },
     "execution_count": 27,
     "metadata": {},
     "output_type": "execute_result"
    }
   ],
   "source": [
    "len(different_node_results)"
   ]
  },
  {
   "cell_type": "code",
   "execution_count": 28,
   "metadata": {},
   "outputs": [
    {
     "data": {
      "text/plain": [
       "Power_divergenceResult(statistic=2116.0278470272747, pvalue=0.0)"
      ]
     },
     "execution_count": 28,
     "metadata": {},
     "output_type": "execute_result"
    }
   ],
   "source": [
    "chisquare(different_node_results, f_exp=eq_node_results)"
   ]
  },
  {
   "cell_type": "code",
   "execution_count": 29,
   "metadata": {},
   "outputs": [
    {
     "data": {
      "text/plain": [
       "<itertools.groupby at 0x7f6f3620b8f0>"
      ]
     },
     "execution_count": 29,
     "metadata": {},
     "output_type": "execute_result"
    }
   ],
   "source": [
    "groupby(eq_node_results)"
   ]
  },
  {
   "cell_type": "code",
   "execution_count": 32,
   "metadata": {},
   "outputs": [],
   "source": [
    "eq_counter = dict(collections.Counter(eq_node_results))\n",
    "diff_counter = dict(collections.Counter(different_node_results))"
   ]
  },
  {
   "cell_type": "code",
   "execution_count": 34,
   "metadata": {
    "scrolled": true
   },
   "outputs": [
    {
     "data": {
      "text/plain": [
       "{951: 1,\n",
       " 985: 1,\n",
       " 828: 1,\n",
       " 811: 1,\n",
       " 834: 1,\n",
       " 841: 1,\n",
       " 783: 1,\n",
       " 814: 2,\n",
       " 881: 1,\n",
       " 1067: 1,\n",
       " 829: 1,\n",
       " 807: 2,\n",
       " 840: 2,\n",
       " 940: 2,\n",
       " 918: 1,\n",
       " 1026: 1,\n",
       " 875: 1,\n",
       " 728: 1,\n",
       " 732: 1,\n",
       " 914: 1,\n",
       " 772: 1,\n",
       " 848: 1,\n",
       " 870: 1,\n",
       " 752: 1,\n",
       " 761: 1,\n",
       " 894: 1,\n",
       " 849: 2,\n",
       " 935: 2,\n",
       " 737: 1,\n",
       " 910: 2,\n",
       " 945: 1,\n",
       " 855: 1,\n",
       " 878: 1,\n",
       " 792: 1,\n",
       " 861: 1,\n",
       " 884: 2,\n",
       " 999: 1,\n",
       " 876: 1,\n",
       " 898: 1,\n",
       " 771: 1,\n",
       " 856: 1,\n",
       " 671: 1,\n",
       " 888: 3,\n",
       " 730: 1,\n",
       " 872: 1,\n",
       " 936: 1,\n",
       " 941: 1,\n",
       " 948: 1,\n",
       " 883: 1,\n",
       " 931: 1,\n",
       " 844: 1,\n",
       " 925: 2,\n",
       " 721: 1,\n",
       " 785: 1,\n",
       " 779: 1,\n",
       " 791: 1,\n",
       " 912: 1,\n",
       " 995: 1,\n",
       " 923: 1,\n",
       " 879: 1,\n",
       " 930: 2,\n",
       " 662: 1,\n",
       " 817: 1,\n",
       " 873: 1,\n",
       " 991: 1,\n",
       " 808: 1,\n",
       " 909: 2,\n",
       " 854: 1,\n",
       " 810: 1,\n",
       " 748: 1,\n",
       " 802: 1,\n",
       " 703: 1,\n",
       " 803: 1,\n",
       " 902: 1,\n",
       " 809: 1,\n",
       " 824: 1,\n",
       " 911: 2,\n",
       " 723: 1,\n",
       " 866: 1,\n",
       " 885: 1,\n",
       " 882: 1,\n",
       " 899: 1,\n",
       " 1097: 1,\n",
       " 696: 1,\n",
       " 954: 1,\n",
       " 972: 1}"
      ]
     },
     "execution_count": 34,
     "metadata": {},
     "output_type": "execute_result"
    }
   ],
   "source": [
    "diff_counter"
   ]
  },
  {
   "cell_type": "code",
   "execution_count": 35,
   "metadata": {
    "scrolled": true
   },
   "outputs": [
    {
     "data": {
      "text/plain": [
       "{794: 1,\n",
       " 980: 1,\n",
       " 1009: 1,\n",
       " 905: 1,\n",
       " 968: 1,\n",
       " 892: 2,\n",
       " 741: 1,\n",
       " 969: 2,\n",
       " 926: 1,\n",
       " 1066: 1,\n",
       " 846: 1,\n",
       " 906: 1,\n",
       " 841: 1,\n",
       " 782: 3,\n",
       " 1084: 1,\n",
       " 800: 1,\n",
       " 981: 1,\n",
       " 935: 1,\n",
       " 1003: 1,\n",
       " 872: 1,\n",
       " 839: 1,\n",
       " 878: 1,\n",
       " 1068: 1,\n",
       " 1045: 1,\n",
       " 932: 1,\n",
       " 852: 1,\n",
       " 874: 1,\n",
       " 840: 1,\n",
       " 771: 1,\n",
       " 1044: 1,\n",
       " 830: 1,\n",
       " 864: 1,\n",
       " 1005: 1,\n",
       " 845: 2,\n",
       " 893: 1,\n",
       " 702: 1,\n",
       " 870: 1,\n",
       " 836: 1,\n",
       " 860: 1,\n",
       " 843: 1,\n",
       " 923: 1,\n",
       " 916: 1,\n",
       " 1065: 1,\n",
       " 788: 1,\n",
       " 756: 1,\n",
       " 847: 1,\n",
       " 1010: 1,\n",
       " 904: 1,\n",
       " 809: 1,\n",
       " 913: 1,\n",
       " 898: 1,\n",
       " 1022: 1,\n",
       " 976: 1,\n",
       " 959: 2,\n",
       " 857: 1,\n",
       " 789: 1,\n",
       " 954: 2,\n",
       " 949: 2,\n",
       " 1034: 1,\n",
       " 763: 1,\n",
       " 881: 1,\n",
       " 837: 1,\n",
       " 803: 1,\n",
       " 924: 1,\n",
       " 922: 1,\n",
       " 723: 1,\n",
       " 666: 1,\n",
       " 779: 2,\n",
       " 810: 1,\n",
       " 693: 1,\n",
       " 879: 1,\n",
       " 848: 1,\n",
       " 983: 1,\n",
       " 1019: 1,\n",
       " 929: 1,\n",
       " 818: 1,\n",
       " 971: 1,\n",
       " 942: 1,\n",
       " 991: 1,\n",
       " 945: 1,\n",
       " 911: 1,\n",
       " 921: 1,\n",
       " 903: 1,\n",
       " 805: 1,\n",
       " 953: 1,\n",
       " 944: 1,\n",
       " 797: 1,\n",
       " 947: 1,\n",
       " 1049: 1,\n",
       " 831: 1,\n",
       " 844: 1}"
      ]
     },
     "execution_count": 35,
     "metadata": {},
     "output_type": "execute_result"
    }
   ],
   "source": [
    "eq_counter"
   ]
  },
  {
   "cell_type": "code",
   "execution_count": 99,
   "metadata": {},
   "outputs": [],
   "source": [
    "min_bin = min(min(different_node_results), min(eq_node_results))\n",
    "max_bin = max(max(different_node_results), max(eq_node_results))\n",
    "bins = list(map(lambda x: int(x), list(\n",
    "        np.arange(\n",
    "            min_bin,\n",
    "            max_bin,\n",
    "            (max_bin - min_bin) / 20\n",
    "        )\n",
    "    )))"
   ]
  },
  {
   "cell_type": "code",
   "execution_count": 100,
   "metadata": {
    "scrolled": true
   },
   "outputs": [
    {
     "data": {
      "text/plain": [
       "[662,\n",
       " 683,\n",
       " 705,\n",
       " 727,\n",
       " 749,\n",
       " 770,\n",
       " 792,\n",
       " 814,\n",
       " 836,\n",
       " 857,\n",
       " 879,\n",
       " 901,\n",
       " 923,\n",
       " 944,\n",
       " 966,\n",
       " 988,\n",
       " 1010,\n",
       " 1031,\n",
       " 1053,\n",
       " 1075,\n",
       " 1097]"
      ]
     },
     "execution_count": 100,
     "metadata": {},
     "output_type": "execute_result"
    }
   ],
   "source": [
    "bins.append(max_bin)\n",
    "bins"
   ]
  },
  {
   "cell_type": "code",
   "execution_count": 101,
   "metadata": {
    "scrolled": true
   },
   "outputs": [
    {
     "data": {
      "text/plain": [
       "1097"
      ]
     },
     "execution_count": 101,
     "metadata": {},
     "output_type": "execute_result"
    }
   ],
   "source": [
    "max_bin"
   ]
  },
  {
   "cell_type": "code",
   "execution_count": 102,
   "metadata": {
    "scrolled": true
   },
   "outputs": [
    {
     "name": "stdout",
     "output_type": "stream",
     "text": [
      "[6, 14, 15, 11, 14, 10, 3, 14, 12, 18, 8, 11, 8, 5, 19, 6, 14, 12, 15, 9, 8, 9, 18, 17, 12, 8, 9, 8, 5, 17, 7, 9, 15, 8, 10, 1, 9, 7, 9, 8, 11, 11, 18, 5, 4, 8, 15, 11, 6, 8, 11, 10, 16, 14, 13, 8, 5, 14, 13, 13, 17, 4, 5, 10, 8, 6, 13, 12, 11, 2, 0, 5, 5, 6, 1, 9, 8, 14, 13, 16, 12, 7, 14, 12, 15, 13, 13, 11, 11, 11, 6, 13, 12, 10, 6, 13, 17, 7, 8, 5]\n"
     ]
    }
   ],
   "source": [
    "eq_node_bins_results = list(pd.cut(eq_node_results, bins=bins, include_lowest=True, labels=False))\n",
    "print(eq_node_bins_results)"
   ]
  },
  {
   "cell_type": "code",
   "execution_count": 103,
   "metadata": {
    "scrolled": true
   },
   "outputs": [
    {
     "name": "stdout",
     "output_type": "stream",
     "text": [
      "[13, 14, 7, 6, 7, 8, 5, 6, 10, 18, 7, 6, 8, 12, 6, 11, 16, 9, 3, 3, 11, 5, 8, 9, 4, 4, 10, 8, 12, 3, 11, 13, 8, 9, 5, 9, 12, 10, 15, 9, 10, 12, 5, 8, 0, 10, 3, 9, 12, 8, 12, 13, 8, 10, 12, 8, 12, 2, 5, 5, 5, 11, 15, 11, 9, 12, 0, 7, 9, 15, 11, 6, 11, 8, 6, 3, 11, 6, 10, 1, 6, 11, 6, 10, 7, 11, 2, 9, 10, 10, 10, 10, 19, 12, 1, 12, 6, 11, 13, 14]\n"
     ]
    }
   ],
   "source": [
    "diff_node_bins_results = list(pd.cut(different_node_results, bins=bins, include_lowest=True, labels=False))\n",
    "print(diff_node_bins_results)"
   ]
  },
  {
   "cell_type": "code",
   "execution_count": 107,
   "metadata": {},
   "outputs": [
    {
     "name": "stdout",
     "output_type": "stream",
     "text": [
      "100\n",
      "100\n",
      "21\n"
     ]
    }
   ],
   "source": [
    "print(len(eq_node_bins_results))\n",
    "print(len(diff_node_bins_results))\n",
    "print(len(bins))"
   ]
  },
  {
   "cell_type": "code",
   "execution_count": 108,
   "metadata": {},
   "outputs": [
    {
     "name": "stdout",
     "output_type": "stream",
     "text": [
      "(0, 1) (1, 2) (2, 1) (3, 1) (4, 2) (5, 8) (6, 7) (7, 4) (8, 13) (9, 7) (10, 5) (11, 10) (12, 7) (13, 9) (14, 8) (15, 5) (16, 2) (17, 4) (18, 3) (19, 1) "
     ]
    }
   ],
   "source": [
    "eq_counter = dict(collections.Counter(eq_node_bins_results))\n",
    "for i in sorted (eq_counter) : \n",
    "    print ((i, eq_counter[i]), end =\" \") "
   ]
  },
  {
   "cell_type": "code",
   "execution_count": 109,
   "metadata": {},
   "outputs": [
    {
     "name": "stdout",
     "output_type": "stream",
     "text": [
      "(0, 2) (1, 2) (2, 2) (3, 5) (4, 2) (5, 7) (6, 10) (7, 5) (8, 10) (9, 9) (10, 12) (11, 11) (12, 11) (13, 4) (14, 2) (15, 3) (16, 1) (18, 1) (19, 1) "
     ]
    }
   ],
   "source": [
    "diff_counter = dict(collections.Counter(diff_node_bins_results))\n",
    "for i in sorted (diff_counter) : \n",
    "    print ((i, diff_counter[i]), end =\" \") "
   ]
  },
  {
   "cell_type": "code",
   "execution_count": null,
   "metadata": {},
   "outputs": [],
   "source": [
    "for k,v in diff_counter.items():\n",
    "    if k not in eq_counter:\n",
    "        diff_counter[k] = v\n",
    "        \n",
    "for k,v in eq_counter.items():\n",
    "    if k not in diff_counter:\n",
    "        eq_counter[k] = v        "
   ]
  },
  {
   "cell_type": "code",
   "execution_count": null,
   "metadata": {},
   "outputs": [],
   "source": [
    "for k,v in diff_counter.items():\n",
    "    if k not in eq_counter:\n",
    "        diff_counter[k] = 1\n",
    "        \n",
    "for k,v in eq_counter.items():\n",
    "    if k not in diff_counter:\n",
    "        eq_counter[k] = 1    "
   ]
  },
  {
   "cell_type": "code",
   "execution_count": 110,
   "metadata": {},
   "outputs": [
    {
     "name": "stdout",
     "output_type": "stream",
     "text": [
      "19\n",
      "20\n"
     ]
    }
   ],
   "source": [
    "print(len(diff_counter))\n",
    "print(len(eq_counter))\n",
    "assert len(diff_counter) == len(eq_counter), 'statistics are not equal'"
   ]
  },
  {
   "cell_type": "code",
   "execution_count": 95,
   "metadata": {},
   "outputs": [
    {
     "data": {
      "text/plain": [
       "Power_divergenceResult(statistic=inf, pvalue=0.0)"
      ]
     },
     "execution_count": 95,
     "metadata": {},
     "output_type": "execute_result"
    }
   ],
   "source": [
    "chisquare(eq_node_bins_results, f_exp=diff_node_bins_results)"
   ]
  },
  {
   "cell_type": "code",
   "execution_count": 96,
   "metadata": {},
   "outputs": [
    {
     "data": {
      "text/plain": [
       "Power_divergenceResult(statistic=inf, pvalue=0.0)"
      ]
     },
     "execution_count": 96,
     "metadata": {},
     "output_type": "execute_result"
    }
   ],
   "source": [
    "chisquare(eq_node_bins_results, f_exp=diff_node_bins_results)"
   ]
  },
  {
   "cell_type": "code",
   "execution_count": null,
   "metadata": {},
   "outputs": [],
   "source": []
  }
 ],
 "metadata": {
  "kernelspec": {
   "display_name": "Python 3",
   "language": "python",
   "name": "python3"
  },
  "language_info": {
   "codemirror_mode": {
    "name": "ipython",
    "version": 3
   },
   "file_extension": ".py",
   "mimetype": "text/x-python",
   "name": "python",
   "nbconvert_exporter": "python",
   "pygments_lexer": "ipython3",
   "version": "3.7.5"
  }
 },
 "nbformat": 4,
 "nbformat_minor": 4
}
